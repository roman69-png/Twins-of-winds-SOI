{
 "cells": [
  {
   "cell_type": "code",
   "execution_count": 190,
   "id": "a212002b",
   "metadata": {},
   "outputs": [],
   "source": [
    "import pandas as pd\n",
    "import numpy as np\n",
    "import matplotlib.pyplot as plt\n",
    "import os\n",
    "from sklearn.experimental import enable_iterative_imputer\n",
    "from sklearn.impute import IterativeImputer\n",
    "from tensorflow.keras.models import Sequential\n",
    "from tensorflow.keras.layers import Dense, SimpleRNN\n",
    "from sklearn.model_selection import train_test_split\n",
    "from sklearn.metrics import r2_score\n",
    "from tensorflow.keras.models import Sequential\n",
    "from tensorflow.keras.layers import LSTM, Dense, Dropout\n",
    "from tensorflow.keras.optimizers import Adam\n",
    "from sklearn.preprocessing import StandardScaler\n",
    "from tensorflow.keras.regularizers import l2\n",
    "from sklearn.ensemble import RandomForestRegressor\n",
    "from sklearn.model_selection import train_test_split\n",
    "from sklearn.metrics import r2_score\n",
    "from sklearn.metrics import mean_squared_error\n",
    "from joblib import dump"
   ]
  },
  {
   "cell_type": "code",
   "execution_count": 178,
   "id": "10c98dca",
   "metadata": {},
   "outputs": [],
   "source": [
    "df = pd.read_csv(r'train (3).csv')"
   ]
  },
  {
   "cell_type": "code",
   "execution_count": 179,
   "id": "372cfcf8",
   "metadata": {
    "scrolled": true
   },
   "outputs": [
    {
     "data": {
      "text/html": [
       "<div>\n",
       "<style scoped>\n",
       "    .dataframe tbody tr th:only-of-type {\n",
       "        vertical-align: middle;\n",
       "    }\n",
       "\n",
       "    .dataframe tbody tr th {\n",
       "        vertical-align: top;\n",
       "    }\n",
       "\n",
       "    .dataframe thead th {\n",
       "        text-align: right;\n",
       "    }\n",
       "</style>\n",
       "<table border=\"1\" class=\"dataframe\">\n",
       "  <thead>\n",
       "    <tr style=\"text-align: right;\">\n",
       "      <th></th>\n",
       "      <th>year</th>\n",
       "      <th>month</th>\n",
       "      <th>day</th>\n",
       "      <th>latitude</th>\n",
       "      <th>longitude</th>\n",
       "      <th>zon.winds</th>\n",
       "      <th>mer.winds</th>\n",
       "      <th>humidity</th>\n",
       "      <th>air temp.</th>\n",
       "      <th>s.s.temp.</th>\n",
       "    </tr>\n",
       "  </thead>\n",
       "  <tbody>\n",
       "    <tr>\n",
       "      <th>0</th>\n",
       "      <td>1992</td>\n",
       "      <td>12</td>\n",
       "      <td>13</td>\n",
       "      <td>-4.99</td>\n",
       "      <td>156.0</td>\n",
       "      <td>4.8</td>\n",
       "      <td>-2.8</td>\n",
       "      <td>78.5</td>\n",
       "      <td>28.98</td>\n",
       "      <td>30.06</td>\n",
       "    </tr>\n",
       "    <tr>\n",
       "      <th>1</th>\n",
       "      <td>1989</td>\n",
       "      <td>5</td>\n",
       "      <td>14</td>\n",
       "      <td>0.00</td>\n",
       "      <td>-110.1</td>\n",
       "      <td>-2.5</td>\n",
       "      <td>2.4</td>\n",
       "      <td>NaN</td>\n",
       "      <td>24.95</td>\n",
       "      <td>25.23</td>\n",
       "    </tr>\n",
       "    <tr>\n",
       "      <th>2</th>\n",
       "      <td>1993</td>\n",
       "      <td>6</td>\n",
       "      <td>28</td>\n",
       "      <td>2.04</td>\n",
       "      <td>-110.2</td>\n",
       "      <td>-4.5</td>\n",
       "      <td>5.9</td>\n",
       "      <td>NaN</td>\n",
       "      <td>25.78</td>\n",
       "      <td>27.84</td>\n",
       "    </tr>\n",
       "    <tr>\n",
       "      <th>3</th>\n",
       "      <td>1995</td>\n",
       "      <td>1</td>\n",
       "      <td>8</td>\n",
       "      <td>1.98</td>\n",
       "      <td>-140.0</td>\n",
       "      <td>-7.7</td>\n",
       "      <td>1.2</td>\n",
       "      <td>82.6</td>\n",
       "      <td>26.47</td>\n",
       "      <td>26.86</td>\n",
       "    </tr>\n",
       "    <tr>\n",
       "      <th>4</th>\n",
       "      <td>1995</td>\n",
       "      <td>2</td>\n",
       "      <td>21</td>\n",
       "      <td>5.01</td>\n",
       "      <td>-170.0</td>\n",
       "      <td>-5.4</td>\n",
       "      <td>-6.6</td>\n",
       "      <td>75.2</td>\n",
       "      <td>28.83</td>\n",
       "      <td>28.90</td>\n",
       "    </tr>\n",
       "  </tbody>\n",
       "</table>\n",
       "</div>"
      ],
      "text/plain": [
       "   year  month  day  latitude  longitude  zon.winds  mer.winds  humidity  \\\n",
       "0  1992     12   13     -4.99      156.0        4.8       -2.8      78.5   \n",
       "1  1989      5   14      0.00     -110.1       -2.5        2.4       NaN   \n",
       "2  1993      6   28      2.04     -110.2       -4.5        5.9       NaN   \n",
       "3  1995      1    8      1.98     -140.0       -7.7        1.2      82.6   \n",
       "4  1995      2   21      5.01     -170.0       -5.4       -6.6      75.2   \n",
       "\n",
       "   air temp.  s.s.temp.  \n",
       "0      28.98      30.06  \n",
       "1      24.95      25.23  \n",
       "2      25.78      27.84  \n",
       "3      26.47      26.86  \n",
       "4      28.83      28.90  "
      ]
     },
     "execution_count": 179,
     "metadata": {},
     "output_type": "execute_result"
    }
   ],
   "source": [
    "df.head()"
   ]
  },
  {
   "cell_type": "code",
   "execution_count": 180,
   "id": "847d3a13",
   "metadata": {},
   "outputs": [],
   "source": [
    "df_inputs = df.drop(['s.s.temp.','day'],axis=1)"
   ]
  },
  {
   "cell_type": "code",
   "execution_count": 181,
   "id": "3cd43101",
   "metadata": {},
   "outputs": [],
   "source": [
    "#fill the null values using imputation\n",
    "imputer = IterativeImputer(max_iter=10, random_state=42)\n",
    "df_inputs = imputer.fit_transform(df_inputs)"
   ]
  },
  {
   "cell_type": "code",
   "execution_count": 182,
   "id": "ada81f5d",
   "metadata": {},
   "outputs": [],
   "source": [
    "sc = StandardScaler()"
   ]
  },
  {
   "cell_type": "code",
   "execution_count": 183,
   "id": "8dfc0fb3",
   "metadata": {},
   "outputs": [],
   "source": [
    "df_target = df['s.s.temp.']"
   ]
  },
  {
   "cell_type": "code",
   "execution_count": 184,
   "id": "399e5164",
   "metadata": {},
   "outputs": [],
   "source": [
    "X_train,X_test,y_train,y_test = train_test_split(df_inputs,df_target,test_size=0.2,random_state=42)"
   ]
  },
  {
   "cell_type": "code",
   "execution_count": 185,
   "id": "8df218c8",
   "metadata": {},
   "outputs": [],
   "source": [
    "X_train = sc.fit_transform(X_train)"
   ]
  },
  {
   "cell_type": "code",
   "execution_count": 186,
   "id": "e5ae4a15",
   "metadata": {},
   "outputs": [],
   "source": [
    "X_test = sc.fit_transform(X_test)"
   ]
  },
  {
   "cell_type": "code",
   "execution_count": 202,
   "id": "dfab115b",
   "metadata": {},
   "outputs": [],
   "source": [
    "model = RandomForestRegressor(n_estimators=500)"
   ]
  },
  {
   "cell_type": "code",
   "execution_count": 203,
   "id": "0a796651",
   "metadata": {
    "scrolled": true
   },
   "outputs": [
    {
     "data": {
      "text/html": [
       "<style>#sk-container-id-5 {color: black;background-color: white;}#sk-container-id-5 pre{padding: 0;}#sk-container-id-5 div.sk-toggleable {background-color: white;}#sk-container-id-5 label.sk-toggleable__label {cursor: pointer;display: block;width: 100%;margin-bottom: 0;padding: 0.3em;box-sizing: border-box;text-align: center;}#sk-container-id-5 label.sk-toggleable__label-arrow:before {content: \"▸\";float: left;margin-right: 0.25em;color: #696969;}#sk-container-id-5 label.sk-toggleable__label-arrow:hover:before {color: black;}#sk-container-id-5 div.sk-estimator:hover label.sk-toggleable__label-arrow:before {color: black;}#sk-container-id-5 div.sk-toggleable__content {max-height: 0;max-width: 0;overflow: hidden;text-align: left;background-color: #f0f8ff;}#sk-container-id-5 div.sk-toggleable__content pre {margin: 0.2em;color: black;border-radius: 0.25em;background-color: #f0f8ff;}#sk-container-id-5 input.sk-toggleable__control:checked~div.sk-toggleable__content {max-height: 200px;max-width: 100%;overflow: auto;}#sk-container-id-5 input.sk-toggleable__control:checked~label.sk-toggleable__label-arrow:before {content: \"▾\";}#sk-container-id-5 div.sk-estimator input.sk-toggleable__control:checked~label.sk-toggleable__label {background-color: #d4ebff;}#sk-container-id-5 div.sk-label input.sk-toggleable__control:checked~label.sk-toggleable__label {background-color: #d4ebff;}#sk-container-id-5 input.sk-hidden--visually {border: 0;clip: rect(1px 1px 1px 1px);clip: rect(1px, 1px, 1px, 1px);height: 1px;margin: -1px;overflow: hidden;padding: 0;position: absolute;width: 1px;}#sk-container-id-5 div.sk-estimator {font-family: monospace;background-color: #f0f8ff;border: 1px dotted black;border-radius: 0.25em;box-sizing: border-box;margin-bottom: 0.5em;}#sk-container-id-5 div.sk-estimator:hover {background-color: #d4ebff;}#sk-container-id-5 div.sk-parallel-item::after {content: \"\";width: 100%;border-bottom: 1px solid gray;flex-grow: 1;}#sk-container-id-5 div.sk-label:hover label.sk-toggleable__label {background-color: #d4ebff;}#sk-container-id-5 div.sk-serial::before {content: \"\";position: absolute;border-left: 1px solid gray;box-sizing: border-box;top: 0;bottom: 0;left: 50%;z-index: 0;}#sk-container-id-5 div.sk-serial {display: flex;flex-direction: column;align-items: center;background-color: white;padding-right: 0.2em;padding-left: 0.2em;position: relative;}#sk-container-id-5 div.sk-item {position: relative;z-index: 1;}#sk-container-id-5 div.sk-parallel {display: flex;align-items: stretch;justify-content: center;background-color: white;position: relative;}#sk-container-id-5 div.sk-item::before, #sk-container-id-5 div.sk-parallel-item::before {content: \"\";position: absolute;border-left: 1px solid gray;box-sizing: border-box;top: 0;bottom: 0;left: 50%;z-index: -1;}#sk-container-id-5 div.sk-parallel-item {display: flex;flex-direction: column;z-index: 1;position: relative;background-color: white;}#sk-container-id-5 div.sk-parallel-item:first-child::after {align-self: flex-end;width: 50%;}#sk-container-id-5 div.sk-parallel-item:last-child::after {align-self: flex-start;width: 50%;}#sk-container-id-5 div.sk-parallel-item:only-child::after {width: 0;}#sk-container-id-5 div.sk-dashed-wrapped {border: 1px dashed gray;margin: 0 0.4em 0.5em 0.4em;box-sizing: border-box;padding-bottom: 0.4em;background-color: white;}#sk-container-id-5 div.sk-label label {font-family: monospace;font-weight: bold;display: inline-block;line-height: 1.2em;}#sk-container-id-5 div.sk-label-container {text-align: center;}#sk-container-id-5 div.sk-container {/* jupyter's `normalize.less` sets `[hidden] { display: none; }` but bootstrap.min.css set `[hidden] { display: none !important; }` so we also need the `!important` here to be able to override the default hidden behavior on the sphinx rendered scikit-learn.org. See: https://github.com/scikit-learn/scikit-learn/issues/21755 */display: inline-block !important;position: relative;}#sk-container-id-5 div.sk-text-repr-fallback {display: none;}</style><div id=\"sk-container-id-5\" class=\"sk-top-container\"><div class=\"sk-text-repr-fallback\"><pre>RandomForestRegressor(n_estimators=500)</pre><b>In a Jupyter environment, please rerun this cell to show the HTML representation or trust the notebook. <br />On GitHub, the HTML representation is unable to render, please try loading this page with nbviewer.org.</b></div><div class=\"sk-container\" hidden><div class=\"sk-item\"><div class=\"sk-estimator sk-toggleable\"><input class=\"sk-toggleable__control sk-hidden--visually\" id=\"sk-estimator-id-5\" type=\"checkbox\" checked><label for=\"sk-estimator-id-5\" class=\"sk-toggleable__label sk-toggleable__label-arrow\">RandomForestRegressor</label><div class=\"sk-toggleable__content\"><pre>RandomForestRegressor(n_estimators=500)</pre></div></div></div></div></div>"
      ],
      "text/plain": [
       "RandomForestRegressor(n_estimators=500)"
      ]
     },
     "execution_count": 203,
     "metadata": {},
     "output_type": "execute_result"
    }
   ],
   "source": [
    "model.fit(X_train,y_train,)"
   ]
  },
  {
   "cell_type": "code",
   "execution_count": 204,
   "id": "2b8dc31a",
   "metadata": {
    "scrolled": false
   },
   "outputs": [
    {
     "data": {
      "text/plain": [
       "0.9662390367713539"
      ]
     },
     "execution_count": 204,
     "metadata": {},
     "output_type": "execute_result"
    }
   ],
   "source": [
    "model.score(X_test,y_test)"
   ]
  },
  {
   "cell_type": "code",
   "execution_count": 208,
   "id": "29acc987",
   "metadata": {},
   "outputs": [
    {
     "name": "stderr",
     "output_type": "stream",
     "text": [
      "C:\\Users\\Manish thaker\\anaconda3\\Lib\\site-packages\\keras\\src\\layers\\core\\dense.py:87: UserWarning: Do not pass an `input_shape`/`input_dim` argument to a layer. When using Sequential models, prefer using an `Input(shape)` object as the first layer in the model instead.\n",
      "  super().__init__(activity_regularizer=activity_regularizer, **kwargs)\n"
     ]
    }
   ],
   "source": [
    "model_nn = model = Sequential([\n",
    "    Dense(64, input_shape=(X_train.shape[1],), activation='relu'),\n",
    "    Dense(128, activation='relu', kernel_regularizer=l2(0.001)),\n",
    "    Dropout(0.2),\n",
    "    Dense(64, activation='relu', kernel_regularizer=l2(0.001)),\n",
    "    Dropout(0.2),\n",
    "    Dense(32, activation='relu', kernel_regularizer=l2(0.001)),\n",
    "    Dropout(0.2),\n",
    "    Dense(8, activation='relu', kernel_regularizer=l2(0.001)),\n",
    "    Dropout(0.2),\n",
    "    Dense(1, activation='linear')\n",
    "])"
   ]
  },
  {
   "cell_type": "code",
   "execution_count": 209,
   "id": "a603199e",
   "metadata": {
    "scrolled": true
   },
   "outputs": [],
   "source": [
    "model.compile(optimizer=Adam(learning_rate=0.001), loss='mse', metrics=['mae'])\n"
   ]
  },
  {
   "cell_type": "code",
   "execution_count": 211,
   "id": "67992e23",
   "metadata": {},
   "outputs": [
    {
     "name": "stdout",
     "output_type": "stream",
     "text": [
      "Epoch 1/100\n",
      "\u001b[1m2089/2089\u001b[0m \u001b[32m━━━━━━━━━━━━━━━━━━━━\u001b[0m\u001b[37m\u001b[0m \u001b[1m13s\u001b[0m 4ms/step - loss: 123.0774 - mae: 8.3970 - val_loss: 4.6458 - val_mae: 1.9392\n",
      "Epoch 2/100\n",
      "\u001b[1m2089/2089\u001b[0m \u001b[32m━━━━━━━━━━━━━━━━━━━━\u001b[0m\u001b[37m\u001b[0m \u001b[1m7s\u001b[0m 3ms/step - loss: 44.9906 - mae: 5.3148 - val_loss: 1.7616 - val_mae: 1.1059\n",
      "Epoch 3/100\n",
      "\u001b[1m2089/2089\u001b[0m \u001b[32m━━━━━━━━━━━━━━━━━━━━\u001b[0m\u001b[37m\u001b[0m \u001b[1m7s\u001b[0m 3ms/step - loss: 37.6179 - mae: 4.8423 - val_loss: 3.2632 - val_mae: 1.6316\n",
      "Epoch 4/100\n",
      "\u001b[1m2089/2089\u001b[0m \u001b[32m━━━━━━━━━━━━━━━━━━━━\u001b[0m\u001b[37m\u001b[0m \u001b[1m8s\u001b[0m 4ms/step - loss: 30.7637 - mae: 4.3523 - val_loss: 2.4821 - val_mae: 1.3971\n",
      "Epoch 5/100\n",
      "\u001b[1m2089/2089\u001b[0m \u001b[32m━━━━━━━━━━━━━━━━━━━━\u001b[0m\u001b[37m\u001b[0m \u001b[1m7s\u001b[0m 4ms/step - loss: 25.7806 - mae: 3.9995 - val_loss: 1.1768 - val_mae: 0.8657\n",
      "Epoch 6/100\n",
      "\u001b[1m2089/2089\u001b[0m \u001b[32m━━━━━━━━━━━━━━━━━━━━\u001b[0m\u001b[37m\u001b[0m \u001b[1m7s\u001b[0m 3ms/step - loss: 21.5330 - mae: 3.6377 - val_loss: 1.1785 - val_mae: 0.8922\n",
      "Epoch 7/100\n",
      "\u001b[1m2089/2089\u001b[0m \u001b[32m━━━━━━━━━━━━━━━━━━━━\u001b[0m\u001b[37m\u001b[0m \u001b[1m7s\u001b[0m 3ms/step - loss: 18.1866 - mae: 3.3379 - val_loss: 1.3691 - val_mae: 0.9984\n",
      "Epoch 8/100\n",
      "\u001b[1m2089/2089\u001b[0m \u001b[32m━━━━━━━━━━━━━━━━━━━━\u001b[0m\u001b[37m\u001b[0m \u001b[1m7s\u001b[0m 4ms/step - loss: 15.1091 - mae: 3.0387 - val_loss: 1.2507 - val_mae: 0.9380\n",
      "Epoch 9/100\n",
      "\u001b[1m2089/2089\u001b[0m \u001b[32m━━━━━━━━━━━━━━━━━━━━\u001b[0m\u001b[37m\u001b[0m \u001b[1m8s\u001b[0m 4ms/step - loss: 12.6018 - mae: 2.7779 - val_loss: 1.8442 - val_mae: 1.1861\n",
      "Epoch 10/100\n",
      "\u001b[1m2089/2089\u001b[0m \u001b[32m━━━━━━━━━━━━━━━━━━━━\u001b[0m\u001b[37m\u001b[0m \u001b[1m7s\u001b[0m 3ms/step - loss: 10.6007 - mae: 2.5484 - val_loss: 1.1034 - val_mae: 0.8494\n",
      "Epoch 11/100\n",
      "\u001b[1m2089/2089\u001b[0m \u001b[32m━━━━━━━━━━━━━━━━━━━━\u001b[0m\u001b[37m\u001b[0m \u001b[1m7s\u001b[0m 3ms/step - loss: 8.7034 - mae: 2.3043 - val_loss: 0.9067 - val_mae: 0.7407\n",
      "Epoch 12/100\n",
      "\u001b[1m2089/2089\u001b[0m \u001b[32m━━━━━━━━━━━━━━━━━━━━\u001b[0m\u001b[37m\u001b[0m \u001b[1m7s\u001b[0m 3ms/step - loss: 7.0298 - mae: 2.0678 - val_loss: 0.8803 - val_mae: 0.7156\n",
      "Epoch 13/100\n",
      "\u001b[1m2089/2089\u001b[0m \u001b[32m━━━━━━━━━━━━━━━━━━━━\u001b[0m\u001b[37m\u001b[0m \u001b[1m7s\u001b[0m 4ms/step - loss: 5.5176 - mae: 1.8261 - val_loss: 0.5614 - val_mae: 0.5713\n",
      "Epoch 14/100\n",
      "\u001b[1m2089/2089\u001b[0m \u001b[32m━━━━━━━━━━━━━━━━━━━━\u001b[0m\u001b[37m\u001b[0m \u001b[1m7s\u001b[0m 3ms/step - loss: 4.0901 - mae: 1.5619 - val_loss: 0.4888 - val_mae: 0.5128\n",
      "Epoch 15/100\n",
      "\u001b[1m2089/2089\u001b[0m \u001b[32m━━━━━━━━━━━━━━━━━━━━\u001b[0m\u001b[37m\u001b[0m \u001b[1m8s\u001b[0m 4ms/step - loss: 3.1539 - mae: 1.3569 - val_loss: 0.4796 - val_mae: 0.5081\n",
      "Epoch 16/100\n",
      "\u001b[1m2089/2089\u001b[0m \u001b[32m━━━━━━━━━━━━━━━━━━━━\u001b[0m\u001b[37m\u001b[0m \u001b[1m7s\u001b[0m 3ms/step - loss: 2.3891 - mae: 1.1733 - val_loss: 0.5033 - val_mae: 0.5015\n",
      "Epoch 17/100\n",
      "\u001b[1m2089/2089\u001b[0m \u001b[32m━━━━━━━━━━━━━━━━━━━━\u001b[0m\u001b[37m\u001b[0m \u001b[1m7s\u001b[0m 3ms/step - loss: 1.8890 - mae: 1.0345 - val_loss: 0.5658 - val_mae: 0.4855\n",
      "Epoch 18/100\n",
      "\u001b[1m2089/2089\u001b[0m \u001b[32m━━━━━━━━━━━━━━━━━━━━\u001b[0m\u001b[37m\u001b[0m \u001b[1m7s\u001b[0m 3ms/step - loss: 1.5960 - mae: 0.9421 - val_loss: 0.6381 - val_mae: 0.4710\n",
      "Epoch 19/100\n",
      "\u001b[1m2089/2089\u001b[0m \u001b[32m━━━━━━━━━━━━━━━━━━━━\u001b[0m\u001b[37m\u001b[0m \u001b[1m7s\u001b[0m 3ms/step - loss: 1.5362 - mae: 0.9146 - val_loss: 0.7674 - val_mae: 0.5593\n",
      "Epoch 20/100\n",
      "\u001b[1m2089/2089\u001b[0m \u001b[32m━━━━━━━━━━━━━━━━━━━━\u001b[0m\u001b[37m\u001b[0m \u001b[1m7s\u001b[0m 3ms/step - loss: 1.5027 - mae: 0.8976 - val_loss: 0.7805 - val_mae: 0.5495\n",
      "Epoch 21/100\n",
      "\u001b[1m2089/2089\u001b[0m \u001b[32m━━━━━━━━━━━━━━━━━━━━\u001b[0m\u001b[37m\u001b[0m \u001b[1m7s\u001b[0m 3ms/step - loss: 1.5020 - mae: 0.8963 - val_loss: 0.7895 - val_mae: 0.5449\n",
      "Epoch 22/100\n",
      "\u001b[1m2089/2089\u001b[0m \u001b[32m━━━━━━━━━━━━━━━━━━━━\u001b[0m\u001b[37m\u001b[0m \u001b[1m7s\u001b[0m 3ms/step - loss: 1.4701 - mae: 0.8847 - val_loss: 0.7809 - val_mae: 0.5338\n",
      "Epoch 23/100\n",
      "\u001b[1m2089/2089\u001b[0m \u001b[32m━━━━━━━━━━━━━━━━━━━━\u001b[0m\u001b[37m\u001b[0m \u001b[1m7s\u001b[0m 3ms/step - loss: 1.4666 - mae: 0.8854 - val_loss: 0.8509 - val_mae: 0.6020\n",
      "Epoch 24/100\n",
      "\u001b[1m2089/2089\u001b[0m \u001b[32m━━━━━━━━━━━━━━━━━━━━\u001b[0m\u001b[37m\u001b[0m \u001b[1m7s\u001b[0m 4ms/step - loss: 1.4691 - mae: 0.8857 - val_loss: 0.8250 - val_mae: 0.5729\n",
      "Epoch 25/100\n",
      "\u001b[1m2089/2089\u001b[0m \u001b[32m━━━━━━━━━━━━━━━━━━━━\u001b[0m\u001b[37m\u001b[0m \u001b[1m6s\u001b[0m 3ms/step - loss: 1.4556 - mae: 0.8827 - val_loss: 0.8072 - val_mae: 0.5578\n",
      "Epoch 26/100\n",
      "\u001b[1m2089/2089\u001b[0m \u001b[32m━━━━━━━━━━━━━━━━━━━━\u001b[0m\u001b[37m\u001b[0m \u001b[1m9s\u001b[0m 4ms/step - loss: 1.4307 - mae: 0.8766 - val_loss: 0.7775 - val_mae: 0.5220\n",
      "Epoch 27/100\n",
      "\u001b[1m2089/2089\u001b[0m \u001b[32m━━━━━━━━━━━━━━━━━━━━\u001b[0m\u001b[37m\u001b[0m \u001b[1m12s\u001b[0m 5ms/step - loss: 1.4559 - mae: 0.8808 - val_loss: 0.7791 - val_mae: 0.5229\n",
      "Epoch 28/100\n",
      "\u001b[1m2089/2089\u001b[0m \u001b[32m━━━━━━━━━━━━━━━━━━━━\u001b[0m\u001b[37m\u001b[0m \u001b[1m8s\u001b[0m 4ms/step - loss: 1.4724 - mae: 0.8862 - val_loss: 0.8275 - val_mae: 0.5680\n",
      "Epoch 29/100\n",
      "\u001b[1m2089/2089\u001b[0m \u001b[32m━━━━━━━━━━━━━━━━━━━━\u001b[0m\u001b[37m\u001b[0m \u001b[1m9s\u001b[0m 4ms/step - loss: 1.4555 - mae: 0.8833 - val_loss: 0.7923 - val_mae: 0.5334\n",
      "Epoch 30/100\n",
      "\u001b[1m2089/2089\u001b[0m \u001b[32m━━━━━━━━━━━━━━━━━━━━\u001b[0m\u001b[37m\u001b[0m \u001b[1m8s\u001b[0m 4ms/step - loss: 1.4597 - mae: 0.8839 - val_loss: 0.8128 - val_mae: 0.5528\n",
      "Epoch 31/100\n",
      "\u001b[1m2089/2089\u001b[0m \u001b[32m━━━━━━━━━━━━━━━━━━━━\u001b[0m\u001b[37m\u001b[0m \u001b[1m8s\u001b[0m 4ms/step - loss: 1.4458 - mae: 0.8820 - val_loss: 0.8040 - val_mae: 0.5446\n",
      "Epoch 32/100\n",
      "\u001b[1m2089/2089\u001b[0m \u001b[32m━━━━━━━━━━━━━━━━━━━━\u001b[0m\u001b[37m\u001b[0m \u001b[1m8s\u001b[0m 4ms/step - loss: 1.4317 - mae: 0.8794 - val_loss: 0.8044 - val_mae: 0.5448\n",
      "Epoch 33/100\n",
      "\u001b[1m2089/2089\u001b[0m \u001b[32m━━━━━━━━━━━━━━━━━━━━\u001b[0m\u001b[37m\u001b[0m \u001b[1m8s\u001b[0m 4ms/step - loss: 1.4540 - mae: 0.8819 - val_loss: 0.7990 - val_mae: 0.5370\n",
      "Epoch 34/100\n",
      "\u001b[1m2089/2089\u001b[0m \u001b[32m━━━━━━━━━━━━━━━━━━━━\u001b[0m\u001b[37m\u001b[0m \u001b[1m7s\u001b[0m 4ms/step - loss: 1.4409 - mae: 0.8765 - val_loss: 0.8206 - val_mae: 0.5618\n",
      "Epoch 35/100\n",
      "\u001b[1m2089/2089\u001b[0m \u001b[32m━━━━━━━━━━━━━━━━━━━━\u001b[0m\u001b[37m\u001b[0m \u001b[1m7s\u001b[0m 4ms/step - loss: 1.4428 - mae: 0.8807 - val_loss: 0.8081 - val_mae: 0.5497\n",
      "Epoch 36/100\n",
      "\u001b[1m2089/2089\u001b[0m \u001b[32m━━━━━━━━━━━━━━━━━━━━\u001b[0m\u001b[37m\u001b[0m \u001b[1m8s\u001b[0m 4ms/step - loss: 1.4384 - mae: 0.8772 - val_loss: 0.7941 - val_mae: 0.5331\n",
      "Epoch 37/100\n",
      "\u001b[1m2089/2089\u001b[0m \u001b[32m━━━━━━━━━━━━━━━━━━━━\u001b[0m\u001b[37m\u001b[0m \u001b[1m10s\u001b[0m 4ms/step - loss: 1.4527 - mae: 0.8834 - val_loss: 0.8122 - val_mae: 0.5521\n",
      "Epoch 38/100\n",
      "\u001b[1m2089/2089\u001b[0m \u001b[32m━━━━━━━━━━━━━━━━━━━━\u001b[0m\u001b[37m\u001b[0m \u001b[1m8s\u001b[0m 4ms/step - loss: 1.4491 - mae: 0.8818 - val_loss: 0.7856 - val_mae: 0.5258\n",
      "Epoch 39/100\n",
      "\u001b[1m2089/2089\u001b[0m \u001b[32m━━━━━━━━━━━━━━━━━━━━\u001b[0m\u001b[37m\u001b[0m \u001b[1m8s\u001b[0m 4ms/step - loss: 1.4446 - mae: 0.8777 - val_loss: 0.8264 - val_mae: 0.5707\n",
      "Epoch 40/100\n",
      "\u001b[1m2089/2089\u001b[0m \u001b[32m━━━━━━━━━━━━━━━━━━━━\u001b[0m\u001b[37m\u001b[0m \u001b[1m8s\u001b[0m 4ms/step - loss: 1.4593 - mae: 0.8831 - val_loss: 0.7613 - val_mae: 0.4943\n",
      "Epoch 41/100\n",
      "\u001b[1m2089/2089\u001b[0m \u001b[32m━━━━━━━━━━━━━━━━━━━━\u001b[0m\u001b[37m\u001b[0m \u001b[1m10s\u001b[0m 4ms/step - loss: 1.4478 - mae: 0.8798 - val_loss: 0.7709 - val_mae: 0.5131\n",
      "Epoch 42/100\n",
      "\u001b[1m2089/2089\u001b[0m \u001b[32m━━━━━━━━━━━━━━━━━━━━\u001b[0m\u001b[37m\u001b[0m \u001b[1m8s\u001b[0m 4ms/step - loss: 1.4204 - mae: 0.8723 - val_loss: 0.7554 - val_mae: 0.4990\n",
      "Epoch 43/100\n",
      "\u001b[1m2089/2089\u001b[0m \u001b[32m━━━━━━━━━━━━━━━━━━━━\u001b[0m\u001b[37m\u001b[0m \u001b[1m8s\u001b[0m 4ms/step - loss: 1.4519 - mae: 0.8848 - val_loss: 0.7951 - val_mae: 0.5392\n",
      "Epoch 44/100\n",
      "\u001b[1m2089/2089\u001b[0m \u001b[32m━━━━━━━━━━━━━━━━━━━━\u001b[0m\u001b[37m\u001b[0m \u001b[1m10s\u001b[0m 4ms/step - loss: 1.4349 - mae: 0.8805 - val_loss: 0.7526 - val_mae: 0.4946\n",
      "Epoch 45/100\n",
      "\u001b[1m2089/2089\u001b[0m \u001b[32m━━━━━━━━━━━━━━━━━━━━\u001b[0m\u001b[37m\u001b[0m \u001b[1m8s\u001b[0m 4ms/step - loss: 1.4524 - mae: 0.8823 - val_loss: 0.7942 - val_mae: 0.5364\n",
      "Epoch 46/100\n",
      "\u001b[1m2089/2089\u001b[0m \u001b[32m━━━━━━━━━━━━━━━━━━━━\u001b[0m\u001b[37m\u001b[0m \u001b[1m8s\u001b[0m 4ms/step - loss: 1.4478 - mae: 0.8801 - val_loss: 0.7858 - val_mae: 0.5285\n",
      "Epoch 47/100\n",
      "\u001b[1m2089/2089\u001b[0m \u001b[32m━━━━━━━━━━━━━━━━━━━━\u001b[0m\u001b[37m\u001b[0m \u001b[1m10s\u001b[0m 4ms/step - loss: 1.4338 - mae: 0.8758 - val_loss: 0.7827 - val_mae: 0.5240\n",
      "Epoch 48/100\n",
      "\u001b[1m2089/2089\u001b[0m \u001b[32m━━━━━━━━━━━━━━━━━━━━\u001b[0m\u001b[37m\u001b[0m \u001b[1m8s\u001b[0m 4ms/step - loss: 1.4174 - mae: 0.8725 - val_loss: 0.7932 - val_mae: 0.5397\n",
      "Epoch 49/100\n",
      "\u001b[1m2089/2089\u001b[0m \u001b[32m━━━━━━━━━━━━━━━━━━━━\u001b[0m\u001b[37m\u001b[0m \u001b[1m8s\u001b[0m 4ms/step - loss: 1.4436 - mae: 0.8784 - val_loss: 0.8361 - val_mae: 0.5826\n",
      "Epoch 50/100\n",
      "\u001b[1m2089/2089\u001b[0m \u001b[32m━━━━━━━━━━━━━━━━━━━━\u001b[0m\u001b[37m\u001b[0m \u001b[1m8s\u001b[0m 4ms/step - loss: 1.4261 - mae: 0.8719 - val_loss: 0.7620 - val_mae: 0.5061\n",
      "Epoch 51/100\n",
      "\u001b[1m2089/2089\u001b[0m \u001b[32m━━━━━━━━━━━━━━━━━━━━\u001b[0m\u001b[37m\u001b[0m \u001b[1m10s\u001b[0m 4ms/step - loss: 1.4623 - mae: 0.8839 - val_loss: 0.7780 - val_mae: 0.5224\n",
      "Epoch 52/100\n",
      "\u001b[1m2089/2089\u001b[0m \u001b[32m━━━━━━━━━━━━━━━━━━━━\u001b[0m\u001b[37m\u001b[0m \u001b[1m8s\u001b[0m 4ms/step - loss: 1.4484 - mae: 0.8807 - val_loss: 0.7632 - val_mae: 0.5074\n",
      "Epoch 53/100\n"
     ]
    },
    {
     "name": "stdout",
     "output_type": "stream",
     "text": [
      "\u001b[1m2089/2089\u001b[0m \u001b[32m━━━━━━━━━━━━━━━━━━━━\u001b[0m\u001b[37m\u001b[0m \u001b[1m7s\u001b[0m 3ms/step - loss: 1.4422 - mae: 0.8812 - val_loss: 0.7985 - val_mae: 0.5434\n",
      "Epoch 54/100\n",
      "\u001b[1m2089/2089\u001b[0m \u001b[32m━━━━━━━━━━━━━━━━━━━━\u001b[0m\u001b[37m\u001b[0m \u001b[1m8s\u001b[0m 4ms/step - loss: 1.4441 - mae: 0.8811 - val_loss: 0.8516 - val_mae: 0.5944\n",
      "Epoch 55/100\n",
      "\u001b[1m2089/2089\u001b[0m \u001b[32m━━━━━━━━━━━━━━━━━━━━\u001b[0m\u001b[37m\u001b[0m \u001b[1m7s\u001b[0m 3ms/step - loss: 1.4477 - mae: 0.8795 - val_loss: 0.7708 - val_mae: 0.5204\n",
      "Epoch 56/100\n",
      "\u001b[1m2089/2089\u001b[0m \u001b[32m━━━━━━━━━━━━━━━━━━━━\u001b[0m\u001b[37m\u001b[0m \u001b[1m7s\u001b[0m 3ms/step - loss: 1.4397 - mae: 0.8800 - val_loss: 0.7512 - val_mae: 0.4989\n",
      "Epoch 57/100\n",
      "\u001b[1m2089/2089\u001b[0m \u001b[32m━━━━━━━━━━━━━━━━━━━━\u001b[0m\u001b[37m\u001b[0m \u001b[1m7s\u001b[0m 4ms/step - loss: 1.4288 - mae: 0.8751 - val_loss: 0.7531 - val_mae: 0.4997\n",
      "Epoch 58/100\n",
      "\u001b[1m2089/2089\u001b[0m \u001b[32m━━━━━━━━━━━━━━━━━━━━\u001b[0m\u001b[37m\u001b[0m \u001b[1m8s\u001b[0m 4ms/step - loss: 1.4296 - mae: 0.8761 - val_loss: 0.8182 - val_mae: 0.5694\n",
      "Epoch 59/100\n",
      "\u001b[1m2089/2089\u001b[0m \u001b[32m━━━━━━━━━━━━━━━━━━━━\u001b[0m\u001b[37m\u001b[0m \u001b[1m7s\u001b[0m 4ms/step - loss: 1.4427 - mae: 0.8797 - val_loss: 0.7707 - val_mae: 0.5226\n",
      "Epoch 60/100\n",
      "\u001b[1m2089/2089\u001b[0m \u001b[32m━━━━━━━━━━━━━━━━━━━━\u001b[0m\u001b[37m\u001b[0m \u001b[1m7s\u001b[0m 3ms/step - loss: 1.4728 - mae: 0.8841 - val_loss: 0.7693 - val_mae: 0.5172\n",
      "Epoch 61/100\n",
      "\u001b[1m2089/2089\u001b[0m \u001b[32m━━━━━━━━━━━━━━━━━━━━\u001b[0m\u001b[37m\u001b[0m \u001b[1m8s\u001b[0m 4ms/step - loss: 1.4575 - mae: 0.8826 - val_loss: 0.7828 - val_mae: 0.5306\n",
      "Epoch 62/100\n",
      "\u001b[1m2089/2089\u001b[0m \u001b[32m━━━━━━━━━━━━━━━━━━━━\u001b[0m\u001b[37m\u001b[0m \u001b[1m8s\u001b[0m 4ms/step - loss: 1.4516 - mae: 0.8776 - val_loss: 0.8323 - val_mae: 0.5801\n",
      "Epoch 63/100\n",
      "\u001b[1m2089/2089\u001b[0m \u001b[32m━━━━━━━━━━━━━━━━━━━━\u001b[0m\u001b[37m\u001b[0m \u001b[1m8s\u001b[0m 4ms/step - loss: 1.4340 - mae: 0.8741 - val_loss: 0.7568 - val_mae: 0.5056\n",
      "Epoch 64/100\n",
      "\u001b[1m2089/2089\u001b[0m \u001b[32m━━━━━━━━━━━━━━━━━━━━\u001b[0m\u001b[37m\u001b[0m \u001b[1m8s\u001b[0m 4ms/step - loss: 1.4373 - mae: 0.8793 - val_loss: 0.9705 - val_mae: 0.6955\n",
      "Epoch 65/100\n",
      "\u001b[1m2089/2089\u001b[0m \u001b[32m━━━━━━━━━━━━━━━━━━━━\u001b[0m\u001b[37m\u001b[0m \u001b[1m7s\u001b[0m 3ms/step - loss: 1.4325 - mae: 0.8767 - val_loss: 0.8039 - val_mae: 0.5511\n",
      "Epoch 66/100\n",
      "\u001b[1m2089/2089\u001b[0m \u001b[32m━━━━━━━━━━━━━━━━━━━━\u001b[0m\u001b[37m\u001b[0m \u001b[1m7s\u001b[0m 4ms/step - loss: 1.4436 - mae: 0.8791 - val_loss: 0.7673 - val_mae: 0.5125\n",
      "Epoch 67/100\n",
      "\u001b[1m2089/2089\u001b[0m \u001b[32m━━━━━━━━━━━━━━━━━━━━\u001b[0m\u001b[37m\u001b[0m \u001b[1m7s\u001b[0m 3ms/step - loss: 1.4318 - mae: 0.8772 - val_loss: 0.8005 - val_mae: 0.5496\n",
      "Epoch 68/100\n",
      "\u001b[1m2089/2089\u001b[0m \u001b[32m━━━━━━━━━━━━━━━━━━━━\u001b[0m\u001b[37m\u001b[0m \u001b[1m7s\u001b[0m 3ms/step - loss: 1.4385 - mae: 0.8790 - val_loss: 0.7821 - val_mae: 0.5327\n",
      "Epoch 69/100\n",
      "\u001b[1m2089/2089\u001b[0m \u001b[32m━━━━━━━━━━━━━━━━━━━━\u001b[0m\u001b[37m\u001b[0m \u001b[1m7s\u001b[0m 3ms/step - loss: 1.4173 - mae: 0.8738 - val_loss: 0.7785 - val_mae: 0.5290\n",
      "Epoch 70/100\n",
      "\u001b[1m2089/2089\u001b[0m \u001b[32m━━━━━━━━━━━━━━━━━━━━\u001b[0m\u001b[37m\u001b[0m \u001b[1m7s\u001b[0m 3ms/step - loss: 1.4248 - mae: 0.8755 - val_loss: 0.8043 - val_mae: 0.5527\n",
      "Epoch 71/100\n",
      "\u001b[1m2089/2089\u001b[0m \u001b[32m━━━━━━━━━━━━━━━━━━━━\u001b[0m\u001b[37m\u001b[0m \u001b[1m8s\u001b[0m 4ms/step - loss: 1.4114 - mae: 0.8712 - val_loss: 0.8337 - val_mae: 0.5862\n",
      "Epoch 72/100\n",
      "\u001b[1m2089/2089\u001b[0m \u001b[32m━━━━━━━━━━━━━━━━━━━━\u001b[0m\u001b[37m\u001b[0m \u001b[1m7s\u001b[0m 3ms/step - loss: 1.4358 - mae: 0.8780 - val_loss: 0.7730 - val_mae: 0.5212\n",
      "Epoch 73/100\n",
      "\u001b[1m2089/2089\u001b[0m \u001b[32m━━━━━━━━━━━━━━━━━━━━\u001b[0m\u001b[37m\u001b[0m \u001b[1m7s\u001b[0m 3ms/step - loss: 1.4388 - mae: 0.8770 - val_loss: 0.7992 - val_mae: 0.5530\n",
      "Epoch 74/100\n",
      "\u001b[1m2089/2089\u001b[0m \u001b[32m━━━━━━━━━━━━━━━━━━━━\u001b[0m\u001b[37m\u001b[0m \u001b[1m8s\u001b[0m 4ms/step - loss: 1.4338 - mae: 0.8782 - val_loss: 0.7820 - val_mae: 0.5308\n",
      "Epoch 75/100\n",
      "\u001b[1m2089/2089\u001b[0m \u001b[32m━━━━━━━━━━━━━━━━━━━━\u001b[0m\u001b[37m\u001b[0m \u001b[1m7s\u001b[0m 3ms/step - loss: 1.4326 - mae: 0.8747 - val_loss: 0.8018 - val_mae: 0.5494\n",
      "Epoch 76/100\n",
      "\u001b[1m2089/2089\u001b[0m \u001b[32m━━━━━━━━━━━━━━━━━━━━\u001b[0m\u001b[37m\u001b[0m \u001b[1m10s\u001b[0m 3ms/step - loss: 1.4035 - mae: 0.8667 - val_loss: 0.8097 - val_mae: 0.5592\n",
      "Epoch 77/100\n",
      "\u001b[1m2089/2089\u001b[0m \u001b[32m━━━━━━━━━━━━━━━━━━━━\u001b[0m\u001b[37m\u001b[0m \u001b[1m7s\u001b[0m 3ms/step - loss: 1.4278 - mae: 0.8757 - val_loss: 0.7944 - val_mae: 0.5480\n",
      "Epoch 78/100\n",
      "\u001b[1m2089/2089\u001b[0m \u001b[32m━━━━━━━━━━━━━━━━━━━━\u001b[0m\u001b[37m\u001b[0m \u001b[1m7s\u001b[0m 3ms/step - loss: 1.4208 - mae: 0.8738 - val_loss: 0.8196 - val_mae: 0.5716\n",
      "Epoch 79/100\n",
      "\u001b[1m2089/2089\u001b[0m \u001b[32m━━━━━━━━━━━━━━━━━━━━\u001b[0m\u001b[37m\u001b[0m \u001b[1m7s\u001b[0m 3ms/step - loss: 1.4235 - mae: 0.8769 - val_loss: 0.8178 - val_mae: 0.5668\n",
      "Epoch 80/100\n",
      "\u001b[1m2089/2089\u001b[0m \u001b[32m━━━━━━━━━━━━━━━━━━━━\u001b[0m\u001b[37m\u001b[0m \u001b[1m6s\u001b[0m 3ms/step - loss: 1.4494 - mae: 0.8825 - val_loss: 0.7867 - val_mae: 0.5398\n",
      "Epoch 81/100\n",
      "\u001b[1m2089/2089\u001b[0m \u001b[32m━━━━━━━━━━━━━━━━━━━━\u001b[0m\u001b[37m\u001b[0m \u001b[1m8s\u001b[0m 4ms/step - loss: 1.4138 - mae: 0.8708 - val_loss: 0.7639 - val_mae: 0.5143\n",
      "Epoch 82/100\n",
      "\u001b[1m2089/2089\u001b[0m \u001b[32m━━━━━━━━━━━━━━━━━━━━\u001b[0m\u001b[37m\u001b[0m \u001b[1m11s\u001b[0m 4ms/step - loss: 1.4292 - mae: 0.8762 - val_loss: 0.7599 - val_mae: 0.5090\n",
      "Epoch 83/100\n",
      "\u001b[1m2089/2089\u001b[0m \u001b[32m━━━━━━━━━━━━━━━━━━━━\u001b[0m\u001b[37m\u001b[0m \u001b[1m8s\u001b[0m 4ms/step - loss: 1.4233 - mae: 0.8752 - val_loss: 0.7579 - val_mae: 0.5053\n",
      "Epoch 84/100\n",
      "\u001b[1m2089/2089\u001b[0m \u001b[32m━━━━━━━━━━━━━━━━━━━━\u001b[0m\u001b[37m\u001b[0m \u001b[1m8s\u001b[0m 4ms/step - loss: 1.4256 - mae: 0.8750 - val_loss: 0.7726 - val_mae: 0.5193\n",
      "Epoch 85/100\n",
      "\u001b[1m2089/2089\u001b[0m \u001b[32m━━━━━━━━━━━━━━━━━━━━\u001b[0m\u001b[37m\u001b[0m \u001b[1m8s\u001b[0m 4ms/step - loss: 1.3961 - mae: 0.8684 - val_loss: 0.7344 - val_mae: 0.4853\n",
      "Epoch 86/100\n",
      "\u001b[1m2089/2089\u001b[0m \u001b[32m━━━━━━━━━━━━━━━━━━━━\u001b[0m\u001b[37m\u001b[0m \u001b[1m7s\u001b[0m 4ms/step - loss: 1.4250 - mae: 0.8761 - val_loss: 0.7633 - val_mae: 0.5172\n",
      "Epoch 87/100\n",
      "\u001b[1m2089/2089\u001b[0m \u001b[32m━━━━━━━━━━━━━━━━━━━━\u001b[0m\u001b[37m\u001b[0m \u001b[1m10s\u001b[0m 3ms/step - loss: 1.4212 - mae: 0.8707 - val_loss: 0.7850 - val_mae: 0.5413\n",
      "Epoch 88/100\n",
      "\u001b[1m2089/2089\u001b[0m \u001b[32m━━━━━━━━━━━━━━━━━━━━\u001b[0m\u001b[37m\u001b[0m \u001b[1m8s\u001b[0m 4ms/step - loss: 1.4353 - mae: 0.8762 - val_loss: 0.7963 - val_mae: 0.5542\n",
      "Epoch 89/100\n",
      "\u001b[1m2089/2089\u001b[0m \u001b[32m━━━━━━━━━━━━━━━━━━━━\u001b[0m\u001b[37m\u001b[0m \u001b[1m10s\u001b[0m 4ms/step - loss: 1.4227 - mae: 0.8747 - val_loss: 0.8329 - val_mae: 0.5841\n",
      "Epoch 90/100\n",
      "\u001b[1m2089/2089\u001b[0m \u001b[32m━━━━━━━━━━━━━━━━━━━━\u001b[0m\u001b[37m\u001b[0m \u001b[1m7s\u001b[0m 3ms/step - loss: 1.4365 - mae: 0.8752 - val_loss: 0.8031 - val_mae: 0.5517\n",
      "Epoch 91/100\n",
      "\u001b[1m2089/2089\u001b[0m \u001b[32m━━━━━━━━━━━━━━━━━━━━\u001b[0m\u001b[37m\u001b[0m \u001b[1m8s\u001b[0m 4ms/step - loss: 1.4239 - mae: 0.8731 - val_loss: 0.7399 - val_mae: 0.4875\n",
      "Epoch 92/100\n",
      "\u001b[1m2089/2089\u001b[0m \u001b[32m━━━━━━━━━━━━━━━━━━━━\u001b[0m\u001b[37m\u001b[0m \u001b[1m9s\u001b[0m 4ms/step - loss: 1.4260 - mae: 0.8754 - val_loss: 0.7398 - val_mae: 0.4920\n",
      "Epoch 93/100\n",
      "\u001b[1m2089/2089\u001b[0m \u001b[32m━━━━━━━━━━━━━━━━━━━━\u001b[0m\u001b[37m\u001b[0m \u001b[1m10s\u001b[0m 4ms/step - loss: 1.4482 - mae: 0.8774 - val_loss: 0.7978 - val_mae: 0.5530\n",
      "Epoch 94/100\n",
      "\u001b[1m2089/2089\u001b[0m \u001b[32m━━━━━━━━━━━━━━━━━━━━\u001b[0m\u001b[37m\u001b[0m \u001b[1m8s\u001b[0m 4ms/step - loss: 1.4238 - mae: 0.8730 - val_loss: 0.7818 - val_mae: 0.5294\n",
      "Epoch 95/100\n",
      "\u001b[1m2089/2089\u001b[0m \u001b[32m━━━━━━━━━━━━━━━━━━━━\u001b[0m\u001b[37m\u001b[0m \u001b[1m7s\u001b[0m 3ms/step - loss: 1.4023 - mae: 0.8660 - val_loss: 0.7713 - val_mae: 0.5230\n",
      "Epoch 96/100\n",
      "\u001b[1m2089/2089\u001b[0m \u001b[32m━━━━━━━━━━━━━━━━━━━━\u001b[0m\u001b[37m\u001b[0m \u001b[1m7s\u001b[0m 3ms/step - loss: 1.4468 - mae: 0.8826 - val_loss: 0.7789 - val_mae: 0.5324\n",
      "Epoch 97/100\n",
      "\u001b[1m2089/2089\u001b[0m \u001b[32m━━━━━━━━━━━━━━━━━━━━\u001b[0m\u001b[37m\u001b[0m \u001b[1m7s\u001b[0m 3ms/step - loss: 1.4273 - mae: 0.8727 - val_loss: 0.7651 - val_mae: 0.5115\n",
      "Epoch 98/100\n",
      "\u001b[1m2089/2089\u001b[0m \u001b[32m━━━━━━━━━━━━━━━━━━━━\u001b[0m\u001b[37m\u001b[0m \u001b[1m11s\u001b[0m 4ms/step - loss: 1.4391 - mae: 0.8800 - val_loss: 0.7676 - val_mae: 0.5239\n",
      "Epoch 99/100\n",
      "\u001b[1m2089/2089\u001b[0m \u001b[32m━━━━━━━━━━━━━━━━━━━━\u001b[0m\u001b[37m\u001b[0m \u001b[1m8s\u001b[0m 4ms/step - loss: 1.4475 - mae: 0.8826 - val_loss: 0.7907 - val_mae: 0.5475\n",
      "Epoch 100/100\n",
      "\u001b[1m2089/2089\u001b[0m \u001b[32m━━━━━━━━━━━━━━━━━━━━\u001b[0m\u001b[37m\u001b[0m \u001b[1m7s\u001b[0m 3ms/step - loss: 1.4503 - mae: 0.8838 - val_loss: 0.7604 - val_mae: 0.5114\n"
     ]
    },
    {
     "data": {
      "text/plain": [
       "<keras.src.callbacks.history.History at 0x24b0a91f190>"
      ]
     },
     "execution_count": 211,
     "metadata": {},
     "output_type": "execute_result"
    }
   ],
   "source": [
    "model.fit(X_train, y_train, epochs=100, batch_size=32,validation_split=0.2, verbose=1)"
   ]
  },
  {
   "cell_type": "code",
   "execution_count": 212,
   "id": "848a4465",
   "metadata": {},
   "outputs": [
    {
     "name": "stdout",
     "output_type": "stream",
     "text": [
      "\u001b[1m653/653\u001b[0m \u001b[32m━━━━━━━━━━━━━━━━━━━━\u001b[0m\u001b[37m\u001b[0m \u001b[1m1s\u001b[0m 2ms/step - loss: 0.7607 - mae: 0.5105\n"
     ]
    }
   ],
   "source": [
    "r2_score = model.evaluate(X_test, y_test)[1]"
   ]
  },
  {
   "cell_type": "code",
   "execution_count": 213,
   "id": "f3ca8da2",
   "metadata": {},
   "outputs": [
    {
     "data": {
      "text/plain": [
       "0.5075812339782715"
      ]
     },
     "execution_count": 213,
     "metadata": {},
     "output_type": "execute_result"
    }
   ],
   "source": [
    "r2_score"
   ]
  },
  {
   "cell_type": "code",
   "execution_count": 214,
   "id": "37469df0",
   "metadata": {},
   "outputs": [],
   "source": [
    "# considering the accuracy of the random forest classifier model we will use this model for final predictions"
   ]
  },
  {
   "cell_type": "code",
   "execution_count": 206,
   "id": "80edcf15",
   "metadata": {},
   "outputs": [],
   "source": [
    "model_final = RandomForestRegressor(n_estimators=500)"
   ]
  },
  {
   "cell_type": "code",
   "execution_count": 207,
   "id": "6e746b14",
   "metadata": {},
   "outputs": [
    {
     "data": {
      "text/html": [
       "<style>#sk-container-id-6 {color: black;background-color: white;}#sk-container-id-6 pre{padding: 0;}#sk-container-id-6 div.sk-toggleable {background-color: white;}#sk-container-id-6 label.sk-toggleable__label {cursor: pointer;display: block;width: 100%;margin-bottom: 0;padding: 0.3em;box-sizing: border-box;text-align: center;}#sk-container-id-6 label.sk-toggleable__label-arrow:before {content: \"▸\";float: left;margin-right: 0.25em;color: #696969;}#sk-container-id-6 label.sk-toggleable__label-arrow:hover:before {color: black;}#sk-container-id-6 div.sk-estimator:hover label.sk-toggleable__label-arrow:before {color: black;}#sk-container-id-6 div.sk-toggleable__content {max-height: 0;max-width: 0;overflow: hidden;text-align: left;background-color: #f0f8ff;}#sk-container-id-6 div.sk-toggleable__content pre {margin: 0.2em;color: black;border-radius: 0.25em;background-color: #f0f8ff;}#sk-container-id-6 input.sk-toggleable__control:checked~div.sk-toggleable__content {max-height: 200px;max-width: 100%;overflow: auto;}#sk-container-id-6 input.sk-toggleable__control:checked~label.sk-toggleable__label-arrow:before {content: \"▾\";}#sk-container-id-6 div.sk-estimator input.sk-toggleable__control:checked~label.sk-toggleable__label {background-color: #d4ebff;}#sk-container-id-6 div.sk-label input.sk-toggleable__control:checked~label.sk-toggleable__label {background-color: #d4ebff;}#sk-container-id-6 input.sk-hidden--visually {border: 0;clip: rect(1px 1px 1px 1px);clip: rect(1px, 1px, 1px, 1px);height: 1px;margin: -1px;overflow: hidden;padding: 0;position: absolute;width: 1px;}#sk-container-id-6 div.sk-estimator {font-family: monospace;background-color: #f0f8ff;border: 1px dotted black;border-radius: 0.25em;box-sizing: border-box;margin-bottom: 0.5em;}#sk-container-id-6 div.sk-estimator:hover {background-color: #d4ebff;}#sk-container-id-6 div.sk-parallel-item::after {content: \"\";width: 100%;border-bottom: 1px solid gray;flex-grow: 1;}#sk-container-id-6 div.sk-label:hover label.sk-toggleable__label {background-color: #d4ebff;}#sk-container-id-6 div.sk-serial::before {content: \"\";position: absolute;border-left: 1px solid gray;box-sizing: border-box;top: 0;bottom: 0;left: 50%;z-index: 0;}#sk-container-id-6 div.sk-serial {display: flex;flex-direction: column;align-items: center;background-color: white;padding-right: 0.2em;padding-left: 0.2em;position: relative;}#sk-container-id-6 div.sk-item {position: relative;z-index: 1;}#sk-container-id-6 div.sk-parallel {display: flex;align-items: stretch;justify-content: center;background-color: white;position: relative;}#sk-container-id-6 div.sk-item::before, #sk-container-id-6 div.sk-parallel-item::before {content: \"\";position: absolute;border-left: 1px solid gray;box-sizing: border-box;top: 0;bottom: 0;left: 50%;z-index: -1;}#sk-container-id-6 div.sk-parallel-item {display: flex;flex-direction: column;z-index: 1;position: relative;background-color: white;}#sk-container-id-6 div.sk-parallel-item:first-child::after {align-self: flex-end;width: 50%;}#sk-container-id-6 div.sk-parallel-item:last-child::after {align-self: flex-start;width: 50%;}#sk-container-id-6 div.sk-parallel-item:only-child::after {width: 0;}#sk-container-id-6 div.sk-dashed-wrapped {border: 1px dashed gray;margin: 0 0.4em 0.5em 0.4em;box-sizing: border-box;padding-bottom: 0.4em;background-color: white;}#sk-container-id-6 div.sk-label label {font-family: monospace;font-weight: bold;display: inline-block;line-height: 1.2em;}#sk-container-id-6 div.sk-label-container {text-align: center;}#sk-container-id-6 div.sk-container {/* jupyter's `normalize.less` sets `[hidden] { display: none; }` but bootstrap.min.css set `[hidden] { display: none !important; }` so we also need the `!important` here to be able to override the default hidden behavior on the sphinx rendered scikit-learn.org. See: https://github.com/scikit-learn/scikit-learn/issues/21755 */display: inline-block !important;position: relative;}#sk-container-id-6 div.sk-text-repr-fallback {display: none;}</style><div id=\"sk-container-id-6\" class=\"sk-top-container\"><div class=\"sk-text-repr-fallback\"><pre>RandomForestRegressor(n_estimators=500)</pre><b>In a Jupyter environment, please rerun this cell to show the HTML representation or trust the notebook. <br />On GitHub, the HTML representation is unable to render, please try loading this page with nbviewer.org.</b></div><div class=\"sk-container\" hidden><div class=\"sk-item\"><div class=\"sk-estimator sk-toggleable\"><input class=\"sk-toggleable__control sk-hidden--visually\" id=\"sk-estimator-id-6\" type=\"checkbox\" checked><label for=\"sk-estimator-id-6\" class=\"sk-toggleable__label sk-toggleable__label-arrow\">RandomForestRegressor</label><div class=\"sk-toggleable__content\"><pre>RandomForestRegressor(n_estimators=500)</pre></div></div></div></div></div>"
      ],
      "text/plain": [
       "RandomForestRegressor(n_estimators=500)"
      ]
     },
     "execution_count": 207,
     "metadata": {},
     "output_type": "execute_result"
    }
   ],
   "source": [
    "model_final.fit(df_inputs,df_target)"
   ]
  },
  {
   "cell_type": "code",
   "execution_count": 217,
   "id": "fa56ff52",
   "metadata": {},
   "outputs": [
    {
     "data": {
      "text/plain": [
       "['random_forest_regressor_final.joblib']"
      ]
     },
     "execution_count": 217,
     "metadata": {},
     "output_type": "execute_result"
    }
   ],
   "source": [
    "dump(model_final, 'random_forest_regressor_final.joblib')"
   ]
  },
  {
   "cell_type": "code",
   "execution_count": null,
   "id": "9b9078a2",
   "metadata": {},
   "outputs": [],
   "source": []
  }
 ],
 "metadata": {
  "kernelspec": {
   "display_name": "Python 3 (ipykernel)",
   "language": "python",
   "name": "python3"
  },
  "language_info": {
   "codemirror_mode": {
    "name": "ipython",
    "version": 3
   },
   "file_extension": ".py",
   "mimetype": "text/x-python",
   "name": "python",
   "nbconvert_exporter": "python",
   "pygments_lexer": "ipython3",
   "version": "3.11.3"
  }
 },
 "nbformat": 4,
 "nbformat_minor": 5
}
