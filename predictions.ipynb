{
 "cells": [
  {
   "cell_type": "code",
   "execution_count": 7,
   "id": "b50f0277",
   "metadata": {},
   "outputs": [],
   "source": [
    "import pandas as pd\n",
    "import numpy as np\n",
    "import os\n",
    "from sklearn.experimental import enable_iterative_imputer\n",
    "from sklearn.impute import IterativeImputer\n",
    "from sklearn.pipeline import Pipeline\n",
    "import joblib\n",
    "from sklearn.preprocessing import StandardScaler"
   ]
  },
  {
   "cell_type": "code",
   "execution_count": 3,
   "id": "4fb87cda",
   "metadata": {},
   "outputs": [],
   "source": [
    "dataset_1 = pd.read_csv(r'evaluation (1).csv')"
   ]
  },
  {
   "cell_type": "code",
   "execution_count": 5,
   "id": "6eb8cb5a",
   "metadata": {
    "scrolled": false
   },
   "outputs": [
    {
     "data": {
      "text/html": [
       "<div>\n",
       "<style scoped>\n",
       "    .dataframe tbody tr th:only-of-type {\n",
       "        vertical-align: middle;\n",
       "    }\n",
       "\n",
       "    .dataframe tbody tr th {\n",
       "        vertical-align: top;\n",
       "    }\n",
       "\n",
       "    .dataframe thead th {\n",
       "        text-align: right;\n",
       "    }\n",
       "</style>\n",
       "<table border=\"1\" class=\"dataframe\">\n",
       "  <thead>\n",
       "    <tr style=\"text-align: right;\">\n",
       "      <th></th>\n",
       "      <th>Unnamed: 0</th>\n",
       "      <th>year</th>\n",
       "      <th>month</th>\n",
       "      <th>day</th>\n",
       "      <th>latitude</th>\n",
       "      <th>longitude</th>\n",
       "      <th>zon.winds</th>\n",
       "      <th>mer.winds</th>\n",
       "      <th>humidity</th>\n",
       "      <th>air temp.</th>\n",
       "    </tr>\n",
       "  </thead>\n",
       "  <tbody>\n",
       "    <tr>\n",
       "      <th>0</th>\n",
       "      <td>0</td>\n",
       "      <td>1995</td>\n",
       "      <td>6</td>\n",
       "      <td>22</td>\n",
       "      <td>2.00</td>\n",
       "      <td>165.0</td>\n",
       "      <td>-3.3</td>\n",
       "      <td>-1.9</td>\n",
       "      <td>79.4</td>\n",
       "      <td>28.95</td>\n",
       "    </tr>\n",
       "    <tr>\n",
       "      <th>1</th>\n",
       "      <td>1</td>\n",
       "      <td>1995</td>\n",
       "      <td>1</td>\n",
       "      <td>13</td>\n",
       "      <td>4.99</td>\n",
       "      <td>156.0</td>\n",
       "      <td>-3.5</td>\n",
       "      <td>-2.2</td>\n",
       "      <td>82.0</td>\n",
       "      <td>27.86</td>\n",
       "    </tr>\n",
       "    <tr>\n",
       "      <th>2</th>\n",
       "      <td>2</td>\n",
       "      <td>1995</td>\n",
       "      <td>7</td>\n",
       "      <td>9</td>\n",
       "      <td>-4.97</td>\n",
       "      <td>-125.0</td>\n",
       "      <td>-8.2</td>\n",
       "      <td>1.5</td>\n",
       "      <td>84.2</td>\n",
       "      <td>26.02</td>\n",
       "    </tr>\n",
       "    <tr>\n",
       "      <th>3</th>\n",
       "      <td>3</td>\n",
       "      <td>1996</td>\n",
       "      <td>7</td>\n",
       "      <td>17</td>\n",
       "      <td>8.01</td>\n",
       "      <td>165.0</td>\n",
       "      <td>-5.4</td>\n",
       "      <td>-1.0</td>\n",
       "      <td>84.1</td>\n",
       "      <td>28.38</td>\n",
       "    </tr>\n",
       "    <tr>\n",
       "      <th>4</th>\n",
       "      <td>4</td>\n",
       "      <td>1993</td>\n",
       "      <td>8</td>\n",
       "      <td>23</td>\n",
       "      <td>2.06</td>\n",
       "      <td>165.0</td>\n",
       "      <td>2.0</td>\n",
       "      <td>0.6</td>\n",
       "      <td>75.4</td>\n",
       "      <td>28.47</td>\n",
       "    </tr>\n",
       "  </tbody>\n",
       "</table>\n",
       "</div>"
      ],
      "text/plain": [
       "   Unnamed: 0  year  month  day  latitude  longitude  zon.winds  mer.winds  \\\n",
       "0           0  1995      6   22      2.00      165.0       -3.3       -1.9   \n",
       "1           1  1995      1   13      4.99      156.0       -3.5       -2.2   \n",
       "2           2  1995      7    9     -4.97     -125.0       -8.2        1.5   \n",
       "3           3  1996      7   17      8.01      165.0       -5.4       -1.0   \n",
       "4           4  1993      8   23      2.06      165.0        2.0        0.6   \n",
       "\n",
       "   humidity  air temp.  \n",
       "0      79.4      28.95  \n",
       "1      82.0      27.86  \n",
       "2      84.2      26.02  \n",
       "3      84.1      28.38  \n",
       "4      75.4      28.47  "
      ]
     },
     "execution_count": 5,
     "metadata": {},
     "output_type": "execute_result"
    }
   ],
   "source": [
    "dataset_1.head()"
   ]
  },
  {
   "cell_type": "code",
   "execution_count": 11,
   "id": "0463a125",
   "metadata": {},
   "outputs": [],
   "source": [
    "dataset_1 = dataset_1.drop(['Unnamed: 0','day'],axis=1)"
   ]
  },
  {
   "cell_type": "code",
   "execution_count": 8,
   "id": "9002d9d2",
   "metadata": {},
   "outputs": [],
   "source": [
    "model = joblib.load(r'random_forest_regressor_final.joblib')"
   ]
  },
  {
   "cell_type": "code",
   "execution_count": 25,
   "id": "168c9a12",
   "metadata": {},
   "outputs": [],
   "source": [
    "pipe = Pipeline([\n",
    "#     ('imputer', IterativeImputer(max_iter=10, random_state=42)),\n",
    "#     ('scaler', StandardScaler()),\n",
    "    ('model', model)  \n",
    "])\n",
    "sc = StandardScaler()"
   ]
  },
  {
   "cell_type": "code",
   "execution_count": 24,
   "id": "c3625304",
   "metadata": {},
   "outputs": [],
   "source": [
    "imputer = IterativeImputer(max_iter=10, random_state=42)\n",
    "dataset_1 = imputer.fit_transform(dataset_1)\n",
    "dataset_1 = sc.fit_transform(dataset_1)"
   ]
  },
  {
   "cell_type": "code",
   "execution_count": 26,
   "id": "8419b8dc",
   "metadata": {
    "scrolled": false
   },
   "outputs": [],
   "source": [
    "predictions_1 = pipe.predict(dataset_1)"
   ]
  },
  {
   "cell_type": "code",
   "execution_count": 27,
   "id": "8626420c",
   "metadata": {
    "scrolled": true
   },
   "outputs": [
    {
     "data": {
      "text/plain": [
       "array([19.5498 , 19.5498 , 19.37804, ..., 19.5498 , 19.38632, 19.54334])"
      ]
     },
     "execution_count": 27,
     "metadata": {},
     "output_type": "execute_result"
    }
   ],
   "source": [
    "predictions_1"
   ]
  },
  {
   "cell_type": "code",
   "execution_count": 28,
   "id": "389e5e64",
   "metadata": {},
   "outputs": [],
   "source": [
    "preds_df = pd.DataFrame(predictions_1)"
   ]
  },
  {
   "cell_type": "code",
   "execution_count": 29,
   "id": "bc4ac16e",
   "metadata": {},
   "outputs": [],
   "source": [
    "preds_df.to_csv('evaluation.csv')"
   ]
  },
  {
   "cell_type": "code",
   "execution_count": 42,
   "id": "f19954ff",
   "metadata": {},
   "outputs": [],
   "source": [
    "dataset_2 = pd.read_csv(r'data_97-98.csv')"
   ]
  },
  {
   "cell_type": "code",
   "execution_count": 43,
   "id": "85b0615c",
   "metadata": {
    "scrolled": true
   },
   "outputs": [
    {
     "data": {
      "text/html": [
       "<div>\n",
       "<style scoped>\n",
       "    .dataframe tbody tr th:only-of-type {\n",
       "        vertical-align: middle;\n",
       "    }\n",
       "\n",
       "    .dataframe tbody tr th {\n",
       "        vertical-align: top;\n",
       "    }\n",
       "\n",
       "    .dataframe thead th {\n",
       "        text-align: right;\n",
       "    }\n",
       "</style>\n",
       "<table border=\"1\" class=\"dataframe\">\n",
       "  <thead>\n",
       "    <tr style=\"text-align: right;\">\n",
       "      <th></th>\n",
       "      <th>Index</th>\n",
       "      <th>year</th>\n",
       "      <th>month</th>\n",
       "      <th>day</th>\n",
       "      <th>latitude</th>\n",
       "      <th>longitude</th>\n",
       "      <th>zon.winds</th>\n",
       "      <th>mer.winds</th>\n",
       "      <th>humidity</th>\n",
       "      <th>air temp.</th>\n",
       "    </tr>\n",
       "  </thead>\n",
       "  <tbody>\n",
       "    <tr>\n",
       "      <th>0</th>\n",
       "      <td>0</td>\n",
       "      <td>1997</td>\n",
       "      <td>1</td>\n",
       "      <td>1</td>\n",
       "      <td>0.07</td>\n",
       "      <td>-110.0</td>\n",
       "      <td>-3.1</td>\n",
       "      <td>1.4</td>\n",
       "      <td>89.6</td>\n",
       "      <td>22.66</td>\n",
       "    </tr>\n",
       "    <tr>\n",
       "      <th>1</th>\n",
       "      <td>1</td>\n",
       "      <td>1997</td>\n",
       "      <td>1</td>\n",
       "      <td>2</td>\n",
       "      <td>0.07</td>\n",
       "      <td>-110.0</td>\n",
       "      <td>-2.8</td>\n",
       "      <td>3.0</td>\n",
       "      <td>86.8</td>\n",
       "      <td>22.45</td>\n",
       "    </tr>\n",
       "    <tr>\n",
       "      <th>2</th>\n",
       "      <td>2</td>\n",
       "      <td>1997</td>\n",
       "      <td>1</td>\n",
       "      <td>3</td>\n",
       "      <td>0.07</td>\n",
       "      <td>-110.0</td>\n",
       "      <td>-5.2</td>\n",
       "      <td>3.3</td>\n",
       "      <td>85.2</td>\n",
       "      <td>22.14</td>\n",
       "    </tr>\n",
       "    <tr>\n",
       "      <th>3</th>\n",
       "      <td>3</td>\n",
       "      <td>1997</td>\n",
       "      <td>1</td>\n",
       "      <td>4</td>\n",
       "      <td>0.07</td>\n",
       "      <td>-110.0</td>\n",
       "      <td>-5.7</td>\n",
       "      <td>1.6</td>\n",
       "      <td>86.8</td>\n",
       "      <td>22.19</td>\n",
       "    </tr>\n",
       "    <tr>\n",
       "      <th>4</th>\n",
       "      <td>4</td>\n",
       "      <td>1997</td>\n",
       "      <td>1</td>\n",
       "      <td>5</td>\n",
       "      <td>0.07</td>\n",
       "      <td>-110.0</td>\n",
       "      <td>-5.1</td>\n",
       "      <td>1.5</td>\n",
       "      <td>83.6</td>\n",
       "      <td>22.34</td>\n",
       "    </tr>\n",
       "  </tbody>\n",
       "</table>\n",
       "</div>"
      ],
      "text/plain": [
       "   Index  year  month  day  latitude  longitude  zon.winds  mer.winds  \\\n",
       "0      0  1997      1    1      0.07     -110.0       -3.1        1.4   \n",
       "1      1  1997      1    2      0.07     -110.0       -2.8        3.0   \n",
       "2      2  1997      1    3      0.07     -110.0       -5.2        3.3   \n",
       "3      3  1997      1    4      0.07     -110.0       -5.7        1.6   \n",
       "4      4  1997      1    5      0.07     -110.0       -5.1        1.5   \n",
       "\n",
       "   humidity  air temp.  \n",
       "0      89.6      22.66  \n",
       "1      86.8      22.45  \n",
       "2      85.2      22.14  \n",
       "3      86.8      22.19  \n",
       "4      83.6      22.34  "
      ]
     },
     "execution_count": 43,
     "metadata": {},
     "output_type": "execute_result"
    }
   ],
   "source": [
    "dataset_2.head()"
   ]
  },
  {
   "cell_type": "code",
   "execution_count": 44,
   "id": "75998513",
   "metadata": {},
   "outputs": [],
   "source": [
    "dataset_2 = dataset_2.drop(['Index','day'],axis=1)"
   ]
  },
  {
   "cell_type": "code",
   "execution_count": 45,
   "id": "c47a042e",
   "metadata": {},
   "outputs": [],
   "source": [
    "dataset_2 = imputer.fit_transform(dataset_2)"
   ]
  },
  {
   "cell_type": "code",
   "execution_count": 46,
   "id": "8b3b8375",
   "metadata": {},
   "outputs": [],
   "source": [
    "dataset_2 = sc.fit_transform(dataset_2)"
   ]
  },
  {
   "cell_type": "code",
   "execution_count": 47,
   "id": "54af1112",
   "metadata": {
    "scrolled": true
   },
   "outputs": [],
   "source": [
    "predictions_2 = pipe.predict(dataset_2)"
   ]
  },
  {
   "cell_type": "code",
   "execution_count": 48,
   "id": "f5f55cd3",
   "metadata": {},
   "outputs": [],
   "source": [
    "df_temp = pd.DataFrame(predictions_2)"
   ]
  },
  {
   "cell_type": "code",
   "execution_count": 49,
   "id": "cf135846",
   "metadata": {},
   "outputs": [],
   "source": [
    "df_temp.to_csv('1997-98.csv')"
   ]
  }
 ],
 "metadata": {
  "kernelspec": {
   "display_name": "Python 3 (ipykernel)",
   "language": "python",
   "name": "python3"
  },
  "language_info": {
   "codemirror_mode": {
    "name": "ipython",
    "version": 3
   },
   "file_extension": ".py",
   "mimetype": "text/x-python",
   "name": "python",
   "nbconvert_exporter": "python",
   "pygments_lexer": "ipython3",
   "version": "3.11.3"
  }
 },
 "nbformat": 4,
 "nbformat_minor": 5
}
